{
 "cells": [
  {
   "cell_type": "code",
   "execution_count": 2,
   "id": "bdbb13c4",
   "metadata": {},
   "outputs": [],
   "source": [
    "import ogbench\n",
    "from ml_collections import config_flags"
   ]
  },
  {
   "cell_type": "code",
   "execution_count": 3,
   "id": "0b9a2e9b",
   "metadata": {},
   "outputs": [],
   "source": [
    "from utils.Dataset import Dataset"
   ]
  },
  {
   "cell_type": "code",
   "execution_count": 4,
   "id": "f1276c3f",
   "metadata": {},
   "outputs": [
    {
     "name": "stderr",
     "output_type": "stream",
     "text": [
      "/opt/miniconda3/lib/python3.12/site-packages/gymnasium/spaces/box.py:130: UserWarning: \u001b[33mWARN: Box bound precision lowered by casting to float32\u001b[0m\n",
      "  gym.logger.warn(f\"Box bound precision lowered by casting to {self.dtype}\")\n"
     ]
    }
   ],
   "source": [
    "dataset_name = 'cube-double-play-singletask-v0'\n",
    "env, train_dataset, val_dataset = ogbench.make_env_and_datasets(dataset_name)"
   ]
  },
  {
   "cell_type": "code",
   "execution_count": 5,
   "id": "19685d6a",
   "metadata": {},
   "outputs": [
    {
     "name": "stdout",
     "output_type": "stream",
     "text": [
      "{'observations': array([[-2.2573748 , -1.6199074 ,  1.7733365 , ...,  0.99730766,\n",
      "        -0.9892451 ,  0.14626709],\n",
      "       [-2.2494342 , -1.6130455 ,  1.7730525 , ...,  0.99730766,\n",
      "        -0.9892451 ,  0.14626709],\n",
      "       [-2.2512577 , -1.6196133 ,  1.7972354 , ...,  0.99730766,\n",
      "        -0.9892451 ,  0.14626709],\n",
      "       ...,\n",
      "       [-1.4360024 , -1.3166612 ,  2.1891818 , ...,  0.6767134 ,\n",
      "        -0.9354996 , -0.35332778],\n",
      "       [-1.4377112 , -1.3204151 ,  2.1850538 , ...,  0.6795144 ,\n",
      "        -0.03126381,  0.9995112 ],\n",
      "       [-1.4354938 , -1.3128244 ,  2.1770353 , ...,  0.6848454 ,\n",
      "         0.57083356,  0.8210658 ]], dtype=float32), 'actions': array([[ 0.14431763,  0.10728133, -0.0515877 , -0.00764149, -0.06957698],\n",
      "       [-0.16982387,  0.0876131 , -0.25542668, -0.00339084, -0.10523789],\n",
      "       [-0.58036804, -0.19744529, -0.26275107, -0.09242433, -0.07964395],\n",
      "       ...,\n",
      "       [ 0.09248973, -0.02738391,  0.18312943,  0.05388752,  0.08310074],\n",
      "       [ 0.2010399 ,  0.07362887,  0.04314911,  0.1815764 ,  0.20797232],\n",
      "       [ 0.11845615, -0.11027298, -0.02751782,  0.08785978,  0.38054937]],\n",
      "      dtype=float32), 'terminals': array([0., 0., 0., ..., 0., 0., 1.], dtype=float32), 'next_observations': array([[-2.2494342 , -1.6130455 ,  1.7730525 , ...,  0.99730766,\n",
      "        -0.9892451 ,  0.14626709],\n",
      "       [-2.2512577 , -1.6196133 ,  1.7972354 , ...,  0.99730766,\n",
      "        -0.9892451 ,  0.14626709],\n",
      "       [-2.275737  , -1.6388822 ,  1.8331206 , ...,  0.99730766,\n",
      "        -0.9892451 ,  0.14626709],\n",
      "       ...,\n",
      "       [-1.4377112 , -1.3204151 ,  2.1850538 , ...,  0.6795144 ,\n",
      "        -0.03126381,  0.9995112 ],\n",
      "       [-1.4354938 , -1.3128244 ,  2.1770353 , ...,  0.6848454 ,\n",
      "         0.57083356,  0.8210658 ],\n",
      "       [-1.4404182 , -1.3106108 ,  2.1774945 , ...,  0.6924869 ,\n",
      "        -0.85960704,  0.5109557 ]], dtype=float32), 'rewards': array([-2., -2., -2., ..., -2., -2., -2.], dtype=float32), 'masks': array([1., 1., 1., ..., 1., 1., 1.], dtype=float32)}\n"
     ]
    }
   ],
   "source": [
    "print((train_dataset))"
   ]
  },
  {
   "cell_type": "code",
   "execution_count": 6,
   "id": "91e9b5a1",
   "metadata": {},
   "outputs": [
    {
     "name": "stdout",
     "output_type": "stream",
     "text": [
      "<class 'dict'>\n"
     ]
    }
   ],
   "source": [
    "print(type(train_dataset))"
   ]
  },
  {
   "cell_type": "code",
   "execution_count": 7,
   "id": "90e7bd59",
   "metadata": {},
   "outputs": [
    {
     "name": "stdout",
     "output_type": "stream",
     "text": [
      "{'observations': array([[-1.59682226e+00, -1.48327410e+00,  2.20844364e+00,\n",
      "        -2.31442380e+00, -1.57083821e+00, -1.74885070e+00,\n",
      "         1.07275151e-01,  5.64843357e-01,  1.07896291e-01,\n",
      "        -5.97849309e-01,  1.84228586e-03,  5.07360511e-02,\n",
      "         1.34964600e-01,  1.22525465e+00,  7.29160488e-01,\n",
      "        -1.51301041e-01,  9.88487720e-01,  2.92250681e+00,\n",
      "         2.32958183e-01, -3.25788677e-01, -2.39254451e+00,\n",
      "         1.99607253e-01, -7.98164248e-01, -2.37022930e-17,\n",
      "         2.11965313e-17,  6.02439940e-01,  2.74132252e-01,\n",
      "        -9.61691976e-01,  1.00414395e-01,  3.36866951e+00,\n",
      "         1.99607253e-01, -7.01457381e-01,  8.92050564e-02,\n",
      "         7.01457381e-01,  8.92050564e-02, -9.96193707e-01,\n",
      "         8.71669501e-02]], dtype=float32), 'actions': array([[ 0.00102663,  0.00645777, -0.30764425,  0.01658172,  0.04762015]],\n",
      "      dtype=float32), 'terminals': array([0.], dtype=float32), 'next_observations': array([[-1.59660363e+00, -1.46488035e+00,  2.21172905e+00,\n",
      "        -2.32729888e+00, -1.57077885e+00, -1.74975896e+00,\n",
      "         6.84401952e-04,  2.69836605e-01,  4.67002541e-02,\n",
      "        -1.48010612e-01, -3.94252478e-04, -1.73561890e-02,\n",
      "         1.33971542e-01,  1.22732365e+00,  6.47393584e-01,\n",
      "        -1.52513161e-01,  9.88301456e-01,  2.93121290e+00,\n",
      "         3.41836780e-01, -3.25788677e-01, -2.39254451e+00,\n",
      "         1.99607253e-01, -7.98164248e-01, -3.36055954e-17,\n",
      "         2.55807639e-17,  6.02439940e-01,  2.74132252e-01,\n",
      "        -9.61691976e-01,  1.00414395e-01,  3.36866951e+00,\n",
      "         1.99607253e-01, -7.01457381e-01,  8.92050564e-02,\n",
      "         7.01457381e-01,  8.92050564e-02, -9.96193707e-01,\n",
      "         8.71669501e-02]], dtype=float32), 'rewards': array([-2.], dtype=float32), 'masks': array([1.], dtype=float32)}\n"
     ]
    }
   ],
   "source": [
    "d = Dataset(train_dataset)\n",
    "print(d.sample(1))"
   ]
  },
  {
   "cell_type": "code",
   "execution_count": null,
   "id": "dc8570e4",
   "metadata": {},
   "outputs": [],
   "source": []
  },
  {
   "cell_type": "code",
   "execution_count": null,
   "id": "ff65ad06",
   "metadata": {},
   "outputs": [],
   "source": []
  },
  {
   "cell_type": "code",
   "execution_count": null,
   "id": "012f4af7",
   "metadata": {},
   "outputs": [],
   "source": []
  }
 ],
 "metadata": {
  "kernelspec": {
   "display_name": "Python 3 (ipykernel)",
   "language": "python",
   "name": "python3"
  },
  "language_info": {
   "codemirror_mode": {
    "name": "ipython",
    "version": 3
   },
   "file_extension": ".py",
   "mimetype": "text/x-python",
   "name": "python",
   "nbconvert_exporter": "python",
   "pygments_lexer": "ipython3",
   "version": "3.9.7"
  }
 },
 "nbformat": 4,
 "nbformat_minor": 5
}
